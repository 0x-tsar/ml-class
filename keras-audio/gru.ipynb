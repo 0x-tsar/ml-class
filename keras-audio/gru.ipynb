{
 "cells": [
  {
   "cell_type": "code",
   "execution_count": 46,
   "metadata": {},
   "outputs": [],
   "source": [
    "from keras import layers\n",
    "from keras.models import Model\n",
    "import keras\n",
    "import numpy as np\n",
    "\n",
    "init = keras.initializers.RandomNormal(seed=1)\n",
    "inp = layers.Input((5, 1))\n",
    "out1 = layers.GRU(3, return_sequences=True, kernel_initializer=init, recurrent_initializer=init)(inp)\n",
    "out2= layers.GRU(3, return_sequences=False, kernel_initializer=init, recurrent_initializer=init)(inp)\n",
    "m1 = Model(inp, [out1, out2])"
   ]
  },
  {
   "cell_type": "code",
   "execution_count": 55,
   "metadata": {},
   "outputs": [
    {
     "data": {
      "text/plain": [
       "[array([[[0.00070154, 0.00136539, 0.00103765],\n",
       "         [0.00173466, 0.00341316, 0.00262423],\n",
       "         [0.00292391, 0.00580107, 0.00450045],\n",
       "         [0.00418638, 0.00835804, 0.00652912],\n",
       "         [0.00548301, 0.01099877, 0.00863784]]], dtype=float32),\n",
       " array([[0.56641287, 0.56822586, 0.58158076]], dtype=float32)]"
      ]
     },
     "execution_count": 55,
     "metadata": {},
     "output_type": "execute_result"
    }
   ],
   "source": [
    "in_data = np.array([0.1,0.2,0.3,0.4,0.5]).reshape((1,5,1))\n",
    "m1.predict(in_data)"
   ]
  },
  {
   "cell_type": "code",
   "execution_count": 58,
   "metadata": {},
   "outputs": [
    {
     "name": "stdout",
     "output_type": "stream",
     "text": [
      "Epoch 1/50\n",
      "1/1 [==============================] - 1s 1s/step - loss: 6.3691e-09\n",
      "Epoch 2/50\n",
      "1/1 [==============================] - 0s 5ms/step - loss: 4.0854e-07\n",
      "Epoch 3/50\n",
      "1/1 [==============================] - 0s 6ms/step - loss: 1.0997e-06\n",
      "Epoch 4/50\n",
      "1/1 [==============================] - 0s 7ms/step - loss: 4.6859e-07\n",
      "Epoch 5/50\n",
      "1/1 [==============================] - 0s 7ms/step - loss: 8.8816e-07\n",
      "Epoch 6/50\n",
      "1/1 [==============================] - 0s 18ms/step - loss: 1.4770e-07\n",
      "Epoch 7/50\n",
      "1/1 [==============================] - 0s 11ms/step - loss: 5.0109e-07\n",
      "Epoch 8/50\n",
      "1/1 [==============================] - 0s 8ms/step - loss: 5.4088e-07\n",
      "Epoch 9/50\n",
      "1/1 [==============================] - 0s 7ms/step - loss: 7.4387e-08\n",
      "Epoch 10/50\n",
      "1/1 [==============================] - 0s 5ms/step - loss: 1.6493e-07\n",
      "Epoch 11/50\n",
      "1/1 [==============================] - 0s 9ms/step - loss: 3.8502e-07\n",
      "Epoch 12/50\n",
      "1/1 [==============================] - 0s 11ms/step - loss: 1.7787e-07\n",
      "Epoch 13/50\n",
      "1/1 [==============================] - 0s 9ms/step - loss: 9.4866e-08\n",
      "Epoch 14/50\n",
      "1/1 [==============================] - 0s 7ms/step - loss: 2.7576e-07\n",
      "Epoch 15/50\n",
      "1/1 [==============================] - 0s 6ms/step - loss: 2.2459e-07\n",
      "Epoch 16/50\n",
      "1/1 [==============================] - 0s 5ms/step - loss: 2.7309e-08\n",
      "Epoch 17/50\n",
      "1/1 [==============================] - 0s 5ms/step - loss: 6.1219e-08\n",
      "Epoch 18/50\n",
      "1/1 [==============================] - 0s 5ms/step - loss: 1.6893e-07\n",
      "Epoch 19/50\n",
      "1/1 [==============================] - 0s 7ms/step - loss: 9.6909e-08\n",
      "Epoch 20/50\n",
      "1/1 [==============================] - 0s 9ms/step - loss: 4.1307e-08\n",
      "Epoch 21/50\n",
      "1/1 [==============================] - 0s 9ms/step - loss: 1.2163e-07\n",
      "Epoch 22/50\n",
      "1/1 [==============================] - 0s 4ms/step - loss: 1.2394e-07\n",
      "Epoch 23/50\n",
      "1/1 [==============================] - 0s 6ms/step - loss: 2.5162e-08\n",
      "Epoch 24/50\n",
      "1/1 [==============================] - 0s 5ms/step - loss: 1.9997e-08\n",
      "Epoch 25/50\n",
      "1/1 [==============================] - 0s 6ms/step - loss: 7.8061e-08\n",
      "Epoch 26/50\n",
      "1/1 [==============================] - 0s 5ms/step - loss: 5.2561e-08\n",
      "Epoch 27/50\n",
      "1/1 [==============================] - 0s 4ms/step - loss: 1.7287e-08\n",
      "Epoch 28/50\n",
      "1/1 [==============================] - 0s 6ms/step - loss: 5.4921e-08\n",
      "Epoch 29/50\n",
      "1/1 [==============================] - 0s 8ms/step - loss: 6.3197e-08\n",
      "Epoch 30/50\n",
      "1/1 [==============================] - 0s 9ms/step - loss: 1.4844e-08\n",
      "Epoch 31/50\n",
      "1/1 [==============================] - 0s 5ms/step - loss: 1.2521e-08\n",
      "Epoch 32/50\n",
      "1/1 [==============================] - 0s 7ms/step - loss: 4.1041e-08\n",
      "Epoch 33/50\n",
      "1/1 [==============================] - 0s 6ms/step - loss: 2.3700e-08\n",
      "Epoch 34/50\n",
      "1/1 [==============================] - 0s 6ms/step - loss: 7.6173e-09\n",
      "Epoch 35/50\n",
      "1/1 [==============================] - 0s 4ms/step - loss: 2.9268e-08\n",
      "Epoch 36/50\n",
      "1/1 [==============================] - 0s 11ms/step - loss: 2.7711e-08\n",
      "Epoch 37/50\n",
      "1/1 [==============================] - 0s 8ms/step - loss: 4.9829e-09\n",
      "Epoch 38/50\n",
      "1/1 [==============================] - 0s 7ms/step - loss: 1.2871e-08\n",
      "Epoch 39/50\n",
      "1/1 [==============================] - 0s 4ms/step - loss: 2.2260e-08\n",
      "Epoch 40/50\n",
      "1/1 [==============================] - 0s 7ms/step - loss: 6.6824e-09\n",
      "Epoch 41/50\n",
      "1/1 [==============================] - 0s 5ms/step - loss: 6.0136e-09\n",
      "Epoch 42/50\n",
      "1/1 [==============================] - 0s 6ms/step - loss: 1.6829e-08\n",
      "Epoch 43/50\n",
      "1/1 [==============================] - 0s 6ms/step - loss: 8.0769e-09\n",
      "Epoch 44/50\n",
      "1/1 [==============================] - 0s 5ms/step - loss: 3.3782e-09\n",
      "Epoch 45/50\n",
      "1/1 [==============================] - 0s 10ms/step - loss: 1.2211e-08\n",
      "Epoch 46/50\n",
      "1/1 [==============================] - 0s 8ms/step - loss: 7.8245e-09\n",
      "Epoch 47/50\n",
      "1/1 [==============================] - 0s 7ms/step - loss: 1.0851e-09\n",
      "Epoch 48/50\n",
      "1/1 [==============================] - 0s 7ms/step - loss: 7.0916e-09\n",
      "Epoch 49/50\n",
      "1/1 [==============================] - 0s 5ms/step - loss: 6.2763e-09\n",
      "Epoch 50/50\n",
      "1/1 [==============================] - 0s 5ms/step - loss: 1.5014e-09\n"
     ]
    },
    {
     "data": {
      "text/plain": [
       "<keras.callbacks.History at 0x12cdc8198>"
      ]
     },
     "execution_count": 58,
     "metadata": {},
     "output_type": "execute_result"
    }
   ],
   "source": [
    "m2 = Model(inp, out2)\n",
    "m2.compile(loss=\"mse\", optimizer=\"adam\")\n",
    "m2.fit(in_data, np.array([0.6,0.7,0.8]).reshape((1,3)), epochs=50)"
   ]
  },
  {
   "cell_type": "code",
   "execution_count": 59,
   "metadata": {},
   "outputs": [
    {
     "data": {
      "text/plain": [
       "array([[0.5999683 , 0.6999372 , 0.79988456]], dtype=float32)"
      ]
     },
     "execution_count": 59,
     "metadata": {},
     "output_type": "execute_result"
    }
   ],
   "source": [
    "m2.predict(in_data)"
   ]
  }
 ],
 "metadata": {
  "kernelspec": {
   "display_name": "Python 3",
   "language": "python",
   "name": "python3"
  },
  "language_info": {
   "codemirror_mode": {
    "name": "ipython",
    "version": 3
   },
   "file_extension": ".py",
   "mimetype": "text/x-python",
   "name": "python",
   "nbconvert_exporter": "python",
   "pygments_lexer": "ipython3",
   "version": "3.6.4"
  }
 },
 "nbformat": 4,
 "nbformat_minor": 2
}
